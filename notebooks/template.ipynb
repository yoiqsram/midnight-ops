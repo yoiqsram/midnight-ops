{
 "cells": [
  {
   "cell_type": "code",
   "execution_count": 1,
   "metadata": {},
   "outputs": [],
   "source": [
    "import mlflow\n",
    "from lib.constants import EXPERIMENT_NAME, MLFLOW_URI\n",
    "from lib.dataset import load_train_data, load_test_data\n",
    "\n",
    "# Make sure to have the MLFlow server on before running this code.\n",
    "mlflow.set_tracking_uri(uri=MLFLOW_URI)\n",
    "experiment = mlflow.set_experiment(EXPERIMENT_NAME)\n",
    "X_train, y_train = load_train_data()\n",
    "X_test = load_test_data()"
   ]
  }
 ],
 "metadata": {
  "kernelspec": {
   "display_name": "Python 3",
   "language": "python",
   "name": "python3"
  },
  "language_info": {
   "codemirror_mode": {
    "name": "ipython",
    "version": 3
   },
   "file_extension": ".py",
   "mimetype": "text/x-python",
   "name": "python",
   "nbconvert_exporter": "python",
   "pygments_lexer": "ipython3",
   "version": "3.9.18"
  }
 },
 "nbformat": 4,
 "nbformat_minor": 2
}
