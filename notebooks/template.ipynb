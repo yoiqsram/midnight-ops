{
 "cells": [
  {
   "cell_type": "code",
   "execution_count": 1,
   "metadata": {},
   "outputs": [],
   "source": [
    "import mlflow\n",
    "from lib.constants import EXPERIMENT_NAME, MLFLOW_URI\n",
    "from lib.dataset import load_train_data, load_test_data\n",
    "\n",
    "# Make sure to have the MLFlow server on before running this code.\n",
    "mlflow.set_tracking_uri(uri=MLFLOW_URI)\n",
    "experiment = mlflow.set_experiment(EXPERIMENT_NAME)\n",
    "train_data = load_train_data()\n",
    "test_data = load_test_data()"
   ]
  },
  {
   "cell_type": "code",
   "execution_count": 2,
   "metadata": {},
   "outputs": [
    {
     "data": {
      "text/html": [
       "<div>\n",
       "<style scoped>\n",
       "    .dataframe tbody tr th:only-of-type {\n",
       "        vertical-align: middle;\n",
       "    }\n",
       "\n",
       "    .dataframe tbody tr th {\n",
       "        vertical-align: top;\n",
       "    }\n",
       "\n",
       "    .dataframe thead th {\n",
       "        text-align: right;\n",
       "    }\n",
       "</style>\n",
       "<table border=\"1\" class=\"dataframe\">\n",
       "  <thead>\n",
       "    <tr style=\"text-align: right;\">\n",
       "      <th></th>\n",
       "      <th>ID</th>\n",
       "      <th>REVIEW</th>\n",
       "      <th>LABEL</th>\n",
       "    </tr>\n",
       "  </thead>\n",
       "  <tbody>\n",
       "    <tr>\n",
       "      <th>0</th>\n",
       "      <td>0</td>\n",
       "      <td>[not, person]</td>\n",
       "      <td>1</td>\n",
       "    </tr>\n",
       "    <tr>\n",
       "      <th>1</th>\n",
       "      <td>1</td>\n",
       "      <td>[kakak, enak, layan, cepat, tanggap, murah, se...</td>\n",
       "      <td>5</td>\n",
       "    </tr>\n",
       "    <tr>\n",
       "      <th>2</th>\n",
       "      <td>2</td>\n",
       "      <td>[layan, ramah]</td>\n",
       "      <td>5</td>\n",
       "    </tr>\n",
       "    <tr>\n",
       "      <th>3</th>\n",
       "      <td>3</td>\n",
       "      <td>[nyaman, bersih]</td>\n",
       "      <td>5</td>\n",
       "    </tr>\n",
       "    <tr>\n",
       "      <th>4</th>\n",
       "      <td>4</td>\n",
       "      <td>[layan, cepat, bagus, coba, durian, mantap]</td>\n",
       "      <td>5</td>\n",
       "    </tr>\n",
       "    <tr>\n",
       "      <th>...</th>\n",
       "      <td>...</td>\n",
       "      <td>...</td>\n",
       "      <td>...</td>\n",
       "    </tr>\n",
       "    <tr>\n",
       "      <th>897</th>\n",
       "      <td>897</td>\n",
       "      <td>[jujur, pas, masuk, restoran, suasana, nyaman,...</td>\n",
       "      <td>5</td>\n",
       "    </tr>\n",
       "    <tr>\n",
       "      <th>898</th>\n",
       "      <td>898</td>\n",
       "      <td>[makan, enak, layan, ramah, bagus, deh, suka, ...</td>\n",
       "      <td>5</td>\n",
       "    </tr>\n",
       "    <tr>\n",
       "      <th>899</th>\n",
       "      <td>899</td>\n",
       "      <td>[area, buka, cocok, kalo, tongkrong, teman]</td>\n",
       "      <td>5</td>\n",
       "    </tr>\n",
       "    <tr>\n",
       "      <th>900</th>\n",
       "      <td>900</td>\n",
       "      <td>[salah, favorit, layan, ramah, luas, sedia, ar...</td>\n",
       "      <td>5</td>\n",
       "    </tr>\n",
       "    <tr>\n",
       "      <th>901</th>\n",
       "      <td>901</td>\n",
       "      <td>[long]</td>\n",
       "      <td>4</td>\n",
       "    </tr>\n",
       "  </tbody>\n",
       "</table>\n",
       "<p>902 rows × 3 columns</p>\n",
       "</div>"
      ],
      "text/plain": [
       "      ID                                             REVIEW  LABEL\n",
       "0      0                                      [not, person]      1\n",
       "1      1  [kakak, enak, layan, cepat, tanggap, murah, se...      5\n",
       "2      2                                     [layan, ramah]      5\n",
       "3      3                                   [nyaman, bersih]      5\n",
       "4      4        [layan, cepat, bagus, coba, durian, mantap]      5\n",
       "..   ...                                                ...    ...\n",
       "897  897  [jujur, pas, masuk, restoran, suasana, nyaman,...      5\n",
       "898  898  [makan, enak, layan, ramah, bagus, deh, suka, ...      5\n",
       "899  899        [area, buka, cocok, kalo, tongkrong, teman]      5\n",
       "900  900  [salah, favorit, layan, ramah, luas, sedia, ar...      5\n",
       "901  901                                             [long]      4\n",
       "\n",
       "[902 rows x 3 columns]"
      ]
     },
     "execution_count": 2,
     "metadata": {},
     "output_type": "execute_result"
    }
   ],
   "source": [
    "from lib.sklearn.preprocess import nlp\n",
    "\n",
    "column = 'REVIEW'\n",
    "\n",
    "tokenizer = nlp.TextTokenizer(column)\n",
    "tokenized_train_data = tokenizer.transform(train_data)\n",
    "\n",
    "formalizer = nlp.WordsFormalizer(column)\n",
    "formalized_train_data = formalizer.transform(tokenized_train_data)\n",
    "\n",
    "lemmatization = nlp.WordsLemmatization(column)\n",
    "lemmatization_train_data = lemmatization.transform(formalized_train_data)\n",
    "\n",
    "stop_words_filter = nlp.StopWordsFilter(column)\n",
    "stop_words_filtered_train_data = stop_words_filter.transform(lemmatization_train_data)\n",
    "\n",
    "unknown_words_filter = nlp.UnknownWordsFilter(column)\n",
    "unknown_words_filtered_train_data = unknown_words_filter.transform(stop_words_filtered_train_data)\n",
    "\n",
    "transformed_train_data = unknown_words_filtered_train_data\n",
    "transformed_train_data"
   ]
  },
  {
   "cell_type": "code",
   "execution_count": 7,
   "metadata": {},
   "outputs": [
    {
     "data": {
      "text/plain": [
       "1539"
      ]
     },
     "execution_count": 7,
     "metadata": {},
     "output_type": "execute_result"
    }
   ],
   "source": [
    "words = set()\n",
    "for tokens in stop_words_filtered_train_data['REVIEW']:\n",
    "    words = words.union(set(tokens))\n",
    "\n",
    "unknown_words = nlp.extract_unknown_words(words)\n",
    "len(unknown_words)"
   ]
  }
 ],
 "metadata": {
  "kernelspec": {
   "display_name": "Python 3",
   "language": "python",
   "name": "python3"
  },
  "language_info": {
   "codemirror_mode": {
    "name": "ipython",
    "version": 3
   },
   "file_extension": ".py",
   "mimetype": "text/x-python",
   "name": "python",
   "nbconvert_exporter": "python",
   "pygments_lexer": "ipython3",
   "version": "3.9.18"
  }
 },
 "nbformat": 4,
 "nbformat_minor": 2
}
