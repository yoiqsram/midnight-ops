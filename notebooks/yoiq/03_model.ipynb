{
 "cells": [
  {
   "cell_type": "code",
   "execution_count": 20,
   "metadata": {},
   "outputs": [],
   "source": [
    "import mlflow\n",
    "from lib.constants import PROJECT_DIR, EXPERIMENT_NAME, MLFLOW_URI\n",
    "from lib.dataset import load_train_data, load_test_data\n",
    "\n",
    "# Make sure to have the MLFlow server on before running this code.\n",
    "# mlflow.set_tracking_uri(uri=MLFLOW_URI)\n",
    "# experiment = mlflow.set_experiment(EXPERIMENT_NAME)\n",
    "X_train, y_train = load_train_data()\n",
    "X_test = load_test_data()"
   ]
  },
  {
   "cell_type": "code",
   "execution_count": 16,
   "metadata": {},
   "outputs": [
    {
     "data": {
      "text/plain": [
       "[['layan', 'adalah', 'tidak', 'sahabat', 'person', 'malam', 'jaga', 'gelas'],\n",
       " ['kakak',\n",
       "  'enak',\n",
       "  'sangat',\n",
       "  'layan',\n",
       "  'cepat',\n",
       "  'tanggap',\n",
       "  'dan',\n",
       "  'yang',\n",
       "  'pertama',\n",
       "  'murah',\n",
       "  'senyum'],\n",
       " ['layan', 'sangat', 'ramah', 'banyak', 'promosi']]"
      ]
     },
     "execution_count": 16,
     "metadata": {},
     "output_type": "execute_result"
    }
   ],
   "source": [
    "import pandas as pd\n",
    "from lib.sklearn.preprocess import nlp\n",
    "from sklearn.pipeline import Pipeline\n",
    "\n",
    "custom_map = {\n",
    "    row['asal']: row['tujuan']\n",
    "    for _, row in pd.read_csv('custom-mapper.csv').iterrows()\n",
    "}\n",
    "preprocess_pipeline = Pipeline([\n",
    "    ('tokenizer', nlp.TextTokenizer()),\n",
    "    ('formalizer', nlp.WordsFormalizer()),\n",
    "    ('custom_mapper', nlp.WordsMapper(custom_map)),\n",
    "    ('lemmatization', nlp.WordsLemmatization()),\n",
    "    ('special_char_filter', nlp.SpecialCharacterFilter()),\n",
    "    # ('stop_words_filter', nlp.StopWordsFilter()),\n",
    "    ('unknown_words_filter', nlp.UnknownWordsFilter())\n",
    "])\n",
    "\n",
    "X_train_transformed = preprocess_pipeline.fit_transform(X_train)\n",
    "X_train_transformed[:3]"
   ]
  },
  {
   "cell_type": "code",
   "execution_count": 17,
   "metadata": {},
   "outputs": [
    {
     "data": {
      "text/plain": [
       "0.9822616407982262"
      ]
     },
     "execution_count": 17,
     "metadata": {},
     "output_type": "execute_result"
    }
   ],
   "source": [
    "from sklearn.feature_extraction.text import TfidfVectorizer\n",
    "from sklearn.linear_model import SGDClassifier\n",
    "\n",
    "predictor_pipeline = Pipeline([\n",
    "    ('token_to_text', nlp.TokenToTextTransformer()),\n",
    "    ('tfidf_vectorizer', TfidfVectorizer()),\n",
    "    ('classifier', SGDClassifier())\n",
    "])\n",
    "\n",
    "model_pipeline = Pipeline([\n",
    "    ('preprocessor', preprocess_pipeline),\n",
    "    ('predictor', predictor_pipeline)\n",
    "])\n",
    "\n",
    "model_pipeline.fit(X_train, y_train)\n",
    "model_pipeline.score(X_train, y_train)"
   ]
  },
  {
   "cell_type": "code",
   "execution_count": 21,
   "metadata": {},
   "outputs": [
    {
     "data": {
      "text/html": [
       "<div>\n",
       "<style scoped>\n",
       "    .dataframe tbody tr th:only-of-type {\n",
       "        vertical-align: middle;\n",
       "    }\n",
       "\n",
       "    .dataframe tbody tr th {\n",
       "        vertical-align: top;\n",
       "    }\n",
       "\n",
       "    .dataframe thead th {\n",
       "        text-align: right;\n",
       "    }\n",
       "</style>\n",
       "<table border=\"1\" class=\"dataframe\">\n",
       "  <thead>\n",
       "    <tr style=\"text-align: right;\">\n",
       "      <th></th>\n",
       "      <th>ID</th>\n",
       "      <th>LABEL</th>\n",
       "    </tr>\n",
       "  </thead>\n",
       "  <tbody>\n",
       "    <tr>\n",
       "      <th>0</th>\n",
       "      <td>0</td>\n",
       "      <td>5</td>\n",
       "    </tr>\n",
       "    <tr>\n",
       "      <th>1</th>\n",
       "      <td>1</td>\n",
       "      <td>5</td>\n",
       "    </tr>\n",
       "    <tr>\n",
       "      <th>2</th>\n",
       "      <td>2</td>\n",
       "      <td>5</td>\n",
       "    </tr>\n",
       "    <tr>\n",
       "      <th>3</th>\n",
       "      <td>3</td>\n",
       "      <td>1</td>\n",
       "    </tr>\n",
       "    <tr>\n",
       "      <th>4</th>\n",
       "      <td>4</td>\n",
       "      <td>3</td>\n",
       "    </tr>\n",
       "    <tr>\n",
       "      <th>...</th>\n",
       "      <td>...</td>\n",
       "      <td>...</td>\n",
       "    </tr>\n",
       "    <tr>\n",
       "      <th>495</th>\n",
       "      <td>495</td>\n",
       "      <td>3</td>\n",
       "    </tr>\n",
       "    <tr>\n",
       "      <th>496</th>\n",
       "      <td>496</td>\n",
       "      <td>5</td>\n",
       "    </tr>\n",
       "    <tr>\n",
       "      <th>497</th>\n",
       "      <td>497</td>\n",
       "      <td>4</td>\n",
       "    </tr>\n",
       "    <tr>\n",
       "      <th>498</th>\n",
       "      <td>498</td>\n",
       "      <td>4</td>\n",
       "    </tr>\n",
       "    <tr>\n",
       "      <th>499</th>\n",
       "      <td>499</td>\n",
       "      <td>5</td>\n",
       "    </tr>\n",
       "  </tbody>\n",
       "</table>\n",
       "<p>500 rows × 2 columns</p>\n",
       "</div>"
      ],
      "text/plain": [
       "      ID  LABEL\n",
       "0      0      5\n",
       "1      1      5\n",
       "2      2      5\n",
       "3      3      1\n",
       "4      4      3\n",
       "..   ...    ...\n",
       "495  495      3\n",
       "496  496      5\n",
       "497  497      4\n",
       "498  498      4\n",
       "499  499      5\n",
       "\n",
       "[500 rows x 2 columns]"
      ]
     },
     "metadata": {},
     "output_type": "display_data"
    }
   ],
   "source": [
    "predictions = model_pipeline.predict(X_test)\n",
    "submission = pd.DataFrame({'ID': np.arange(len(predictions)), 'LABEL': predictions})\n",
    "display(submission)\n",
    "submission.to_csv('test_submission.csv', index=False)"
   ]
  }
 ],
 "metadata": {
  "kernelspec": {
   "display_name": "Python 3",
   "language": "python",
   "name": "python3"
  },
  "language_info": {
   "codemirror_mode": {
    "name": "ipython",
    "version": 3
   },
   "file_extension": ".py",
   "mimetype": "text/x-python",
   "name": "python",
   "nbconvert_exporter": "python",
   "pygments_lexer": "ipython3",
   "version": "3.9.18"
  }
 },
 "nbformat": 4,
 "nbformat_minor": 2
}
