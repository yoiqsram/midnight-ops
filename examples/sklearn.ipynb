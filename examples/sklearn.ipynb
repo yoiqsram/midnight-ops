{
 "cells": [
  {
   "cell_type": "markdown",
   "metadata": {},
   "source": [
    "## Setup MLFlow to be used in the experiment"
   ]
  },
  {
   "cell_type": "code",
   "execution_count": 7,
   "metadata": {},
   "outputs": [],
   "source": [
    "import mlflow\n",
    "from lib.constants import MLFLOW_URI\n",
    "\n",
    "EXPERIMENT_NAME = 'sample-sklearn'\n",
    "mlflow.set_tracking_uri(uri=MLFLOW_URI)\n",
    "experiment = mlflow.set_experiment(EXPERIMENT_NAME)"
   ]
  },
  {
   "cell_type": "markdown",
   "metadata": {},
   "source": [
    "## Log MLFlow model run"
   ]
  },
  {
   "cell_type": "code",
   "execution_count": 34,
   "metadata": {},
   "outputs": [],
   "source": [
    "from sklearn import datasets\n",
    "from sklearn.model_selection import train_test_split\n",
    "from sklearn.linear_model import LogisticRegression\n",
    "\n",
    "# Load the Iris dataset\n",
    "X, y = datasets.load_iris(return_X_y=True)\n",
    "X_train, X_test, y_train, y_test = train_test_split(X, y, test_size=0.2, random_state=42)\n",
    "\n",
    "# Define model hyperparameters\n",
    "params = {\n",
    "    'solver': 'lbfgs',\n",
    "    'max_iter': 1000,\n",
    "    'multi_class': 'auto',\n",
    "    'random_state': 8888,\n",
    "}\n",
    "\n",
    "# Train the model\n",
    "lr = LogisticRegression(**params)\n",
    "lr.fit(X_train, y_train)\n",
    "\n",
    "# Log parameters, metrics, and the model\n",
    "with mlflow.start_run() as run:\n",
    "    mlflow.log_params(params)\n",
    "\n",
    "    accuracy = lr.score(X_test, y_test)\n",
    "    mlflow.log_metric('accuracy', accuracy)\n",
    "\n",
    "    mlflow.sklearn.log_model(lr, 'model')\n",
    "\n",
    "    last_run_id = run.info.run_id"
   ]
  },
  {
   "cell_type": "markdown",
   "metadata": {},
   "source": [
    "## List model runs"
   ]
  },
  {
   "cell_type": "code",
   "execution_count": null,
   "metadata": {},
   "outputs": [],
   "source": [
    "model_runs = mlflow.search_runs(experiment_ids=[experiment.experiment_id])\n",
    "model_runs[[\n",
    "    'run_id',\n",
    "    'status',\n",
    "    'metrics.accuracy'\n",
    "]]"
   ]
  },
  {
   "cell_type": "markdown",
   "metadata": {},
   "source": [
    "## Load model run"
   ]
  },
  {
   "cell_type": "code",
   "execution_count": null,
   "metadata": {},
   "outputs": [],
   "source": [
    "best_run_id = (\n",
    "    model_runs\n",
    "    .assign(total_time=lambda df: df.apply(lambda row: (row.end_time - row.start_time).total_seconds(), axis=1))\n",
    "    .sort_values(['metrics.accuracy', 'total_time'], ascending=[False, True])\n",
    "    .iloc[0]\n",
    "    .run_id\n",
    ")\n",
    "\n",
    "loaded_model = mlflow.sklearn.load_model(f'runs:/{last_run_id}/model')\n",
    "accuracy = loaded_model.score(X_test, y_test)\n",
    "predictions = loaded_model.predict(X_test)\n",
    "print('Accuracy from inferece model to test data:', accuracy)"
   ]
  }
 ],
 "metadata": {
  "kernelspec": {
   "display_name": "Python 3",
   "language": "python",
   "name": "python3"
  },
  "language_info": {
   "codemirror_mode": {
    "name": "ipython",
    "version": 3
   },
   "file_extension": ".py",
   "mimetype": "text/x-python",
   "name": "python",
   "nbconvert_exporter": "python",
   "pygments_lexer": "ipython3",
   "version": "3.9.18"
  }
 },
 "nbformat": 4,
 "nbformat_minor": 2
}
